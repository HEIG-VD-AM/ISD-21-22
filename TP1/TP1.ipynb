{
 "cells": [
  {
   "cell_type": "code",
   "execution_count": 2,
   "id": "0c4b8327",
   "metadata": {},
   "outputs": [
    {
     "name": "stdout",
     "output_type": "stream",
     "text": [
      "14\n"
     ]
    }
   ],
   "source": [
    "def quadratic_sum(n):\n",
    "    sum = 0\n",
    "    for i in range(1, n + 1):\n",
    "        sum += i**2\n",
    "    print(sum)\n",
    "    \n",
    "quadratic_sum(3)"
   ]
  },
  {
   "cell_type": "code",
   "execution_count": 1,
   "id": "d8407cbf",
   "metadata": {},
   "outputs": [
    {
     "name": "stdout",
     "output_type": "stream",
     "text": [
      "14\n"
     ]
    }
   ],
   "source": [
    "def quadratic_sum(n):\n",
    "    print(sum([ 2**j for j in range(1,n+1) ]))\n",
    "quadratic_sum(3)"
   ]
  },
  {
   "cell_type": "code",
   "execution_count": 4,
   "id": "aa8783f5",
   "metadata": {
    "scrolled": true
   },
   "outputs": [
    {
     "data": {
      "text/plain": [
       "[1, 2, 3, 4, 5, 6, 7, 7, 6, 5, 4, 3, 2, 1]"
      ]
     },
     "execution_count": 4,
     "metadata": {},
     "output_type": "execute_result"
    }
   ],
   "source": [
    "def palindrome_list(a_list):\n",
    "    return a_list + a_list[::-1]\n",
    "palindrome_list([1,2,3,4,5,6,7])"
   ]
  },
  {
   "cell_type": "code",
   "execution_count": 3,
   "id": "842fb76e",
   "metadata": {},
   "outputs": [
    {
     "name": "stdout",
     "output_type": "stream",
     "text": [
      "55.5955\n"
     ]
    }
   ],
   "source": [
    "import random as rnd\n",
    "\n",
    "cnt = 0\n",
    "val_nbr = 1000000\n",
    "\n",
    "for i in range(val_nbr):\n",
    "    if(rnd.randrange(1,10) % 2):\n",
    "        cnt+=1\n",
    "print((cnt * 100)/val_nbr)"
   ]
  },
  {
   "cell_type": "code",
   "execution_count": 27,
   "id": "215d243f",
   "metadata": {},
   "outputs": [
    {
     "name": "stdout",
     "output_type": "stream",
     "text": [
      "[1, 9, 25, 49, 81, 144, 196, 256, 324, 400]\n"
     ]
    }
   ],
   "source": [
    "new_list = [x**2 for x in range(1,21) if (x < 10 and x % 2) or (10 < x < 21 and x % 2 == 0)]\n",
    "print(new_list)"
   ]
  },
  {
   "cell_type": "code",
   "execution_count": null,
   "id": "27335d0c",
   "metadata": {},
   "outputs": [],
   "source": []
  }
 ],
 "metadata": {
  "kernelspec": {
   "display_name": "isd",
   "language": "python",
   "name": "isd"
  },
  "language_info": {
   "codemirror_mode": {
    "name": "ipython",
    "version": 3
   },
   "file_extension": ".py",
   "mimetype": "text/x-python",
   "name": "python",
   "nbconvert_exporter": "python",
   "pygments_lexer": "ipython3",
   "version": "3.9.7"
  }
 },
 "nbformat": 4,
 "nbformat_minor": 5
}
